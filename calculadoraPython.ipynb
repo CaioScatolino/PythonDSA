{
 "cells": [
  {
   "cell_type": "code",
   "execution_count": 6,
   "metadata": {},
   "outputs": [
    {
     "name": "stdout",
     "output_type": "stream",
     "text": [
      "Bem-vindo a calculadora\n",
      "O resultado é: -10.0\n"
     ]
    }
   ],
   "source": [
    "print('Bem-vindo a calculadora')\n",
    "num1 = float(input(\"Insira o primeiro número: \"))\n",
    "num2 = float(input(\"Insira o segundo número: \"))\n",
    "op = input(\"Insira a operação (+, -, *, /): \")\n",
    "\n",
    "if op == '+':\n",
    "    print(\"O resultado é:\", num1 + num2)\n",
    "elif op == '-':\n",
    "    print(\"O resultado é:\", num1 - num2)\n",
    "elif op == '*':\n",
    "    print(\"O resultado é:\", num1 * num2)\n",
    "elif op == '/':\n",
    "    print(\"O resultado é:\", num1 / num2)\n",
    "else:\n",
    "    print('Operação inválida')"
   ]
  }
 ],
 "metadata": {
  "kernelspec": {
   "display_name": "base",
   "language": "python",
   "name": "python3"
  },
  "language_info": {
   "codemirror_mode": {
    "name": "ipython",
    "version": 3
   },
   "file_extension": ".py",
   "mimetype": "text/x-python",
   "name": "python",
   "nbconvert_exporter": "python",
   "pygments_lexer": "ipython3",
   "version": "3.9.13"
  }
 },
 "nbformat": 4,
 "nbformat_minor": 2
}
